{
  "nbformat": 4,
  "nbformat_minor": 0,
  "metadata": {
    "colab": {
      "name": "final_geodata.ipynb",
      "provenance": [],
      "authorship_tag": "ABX9TyP5HsLq+DZXCapWayLkLS+N",
      "include_colab_link": true
    },
    "kernelspec": {
      "name": "python3",
      "display_name": "Python 3"
    },
    "language_info": {
      "name": "python"
    }
  },
  "cells": [
    {
      "cell_type": "markdown",
      "metadata": {
        "id": "view-in-github",
        "colab_type": "text"
      },
      "source": [
        "<a href=\"https://colab.research.google.com/github/yingzhi-w/geodata_linebot/blob/main/geodata_linebot.ipynb\" target=\"_parent\"><img src=\"https://colab.research.google.com/assets/colab-badge.svg\" alt=\"Open In Colab\"/></a>"
      ]
    },
    {
      "cell_type": "code",
      "execution_count": 1,
      "metadata": {
        "colab": {
          "base_uri": "https://localhost:8080/"
        },
        "id": "gkrZfEgWuy9k",
        "outputId": "83e524a3-70a9-4e4d-c9c3-aef1126b96e8"
      },
      "outputs": [
        {
          "output_type": "stream",
          "name": "stdout",
          "text": [
            "Mounted at /content/drive\n"
          ]
        }
      ],
      "source": [
        "from google.colab import drive\n",
        "drive.mount('/content/drive', force_remount=True)\n",
        "\n",
        "!mkdir -p /drive\n",
        "#umount /drive\n",
        "!mount --bind /content/drive/My\\ Drive /drive\n",
        "!mkdir -p /drive/ngrok-ssh\n",
        "!mkdir -p ~/.ssh"
      ]
    },
    {
      "cell_type": "code",
      "source": [
        "!mkdir -p /drive/ngrok-ssh\n",
        "%cd /drive/ngrok-ssh\n",
        "!wget https://bin.equinox.io/c/4VmDzA7iaHb/ngrok-stable-linux-amd64.zip -O ngrok-stable-linux-amd64.zip\n",
        "!unzip -u ngrok-stable-linux-amd64.zip\n",
        "!cp /drive/ngrok-ssh/ngrok /ngrok\n",
        "!chmod +x /ngrok"
      ],
      "metadata": {
        "colab": {
          "base_uri": "https://localhost:8080/"
        },
        "id": "VWArDsKpu7ST",
        "outputId": "1cc3801a-3b55-4345-8381-1426a97bb2e5"
      },
      "execution_count": 2,
      "outputs": [
        {
          "output_type": "stream",
          "name": "stdout",
          "text": [
            "/drive/ngrok-ssh\n",
            "--2022-06-22 18:45:50--  https://bin.equinox.io/c/4VmDzA7iaHb/ngrok-stable-linux-amd64.zip\n",
            "Resolving bin.equinox.io (bin.equinox.io)... 52.202.168.65, 54.161.241.46, 54.237.133.81, ...\n",
            "Connecting to bin.equinox.io (bin.equinox.io)|52.202.168.65|:443... connected.\n",
            "HTTP request sent, awaiting response... 200 OK\n",
            "Length: 13832437 (13M) [application/octet-stream]\n",
            "Saving to: ‘ngrok-stable-linux-amd64.zip’\n",
            "\n",
            "ngrok-stable-linux- 100%[===================>]  13.19M  3.56MB/s    in 5.0s    \n",
            "\n",
            "2022-06-22 18:45:56 (2.63 MB/s) - ‘ngrok-stable-linux-amd64.zip’ saved [13832437/13832437]\n",
            "\n",
            "Archive:  ngrok-stable-linux-amd64.zip\n"
          ]
        }
      ]
    },
    {
      "cell_type": "code",
      "source": [
        "!/ngrok authtoken 2AAyO4ePNUakjl0gGLjcpWfzDI2_3xA1YgSgEp4rvG7dQZcib"
      ],
      "metadata": {
        "colab": {
          "base_uri": "https://localhost:8080/"
        },
        "id": "o9DOlEplvCkh",
        "outputId": "b5f9f2a1-3762-4b39-dca3-485ddde13429"
      },
      "execution_count": 3,
      "outputs": [
        {
          "output_type": "stream",
          "name": "stdout",
          "text": [
            "Authtoken saved to configuration file: /root/.ngrok2/ngrok.yml\n"
          ]
        }
      ]
    },
    {
      "cell_type": "code",
      "source": [
        "!pip install flask_ngrok"
      ],
      "metadata": {
        "colab": {
          "base_uri": "https://localhost:8080/"
        },
        "id": "J21wg4nuvECV",
        "outputId": "e3430f66-0fd6-4a25-e532-ff055c917005"
      },
      "execution_count": 5,
      "outputs": [
        {
          "output_type": "stream",
          "name": "stdout",
          "text": [
            "Looking in indexes: https://pypi.org/simple, https://us-python.pkg.dev/colab-wheels/public/simple/\n",
            "Requirement already satisfied: flask_ngrok in /usr/local/lib/python3.7/dist-packages (0.0.25)\n",
            "Requirement already satisfied: Flask>=0.8 in /usr/local/lib/python3.7/dist-packages (from flask_ngrok) (1.1.4)\n",
            "Requirement already satisfied: requests in /usr/local/lib/python3.7/dist-packages (from flask_ngrok) (2.23.0)\n",
            "Requirement already satisfied: itsdangerous<2.0,>=0.24 in /usr/local/lib/python3.7/dist-packages (from Flask>=0.8->flask_ngrok) (1.1.0)\n",
            "Requirement already satisfied: click<8.0,>=5.1 in /usr/local/lib/python3.7/dist-packages (from Flask>=0.8->flask_ngrok) (7.1.2)\n",
            "Requirement already satisfied: Jinja2<3.0,>=2.10.1 in /usr/local/lib/python3.7/dist-packages (from Flask>=0.8->flask_ngrok) (2.11.3)\n",
            "Requirement already satisfied: Werkzeug<2.0,>=0.15 in /usr/local/lib/python3.7/dist-packages (from Flask>=0.8->flask_ngrok) (1.0.1)\n",
            "Requirement already satisfied: MarkupSafe>=0.23 in /usr/local/lib/python3.7/dist-packages (from Jinja2<3.0,>=2.10.1->Flask>=0.8->flask_ngrok) (2.0.1)\n",
            "Requirement already satisfied: certifi>=2017.4.17 in /usr/local/lib/python3.7/dist-packages (from requests->flask_ngrok) (2022.6.15)\n",
            "Requirement already satisfied: idna<3,>=2.5 in /usr/local/lib/python3.7/dist-packages (from requests->flask_ngrok) (2.10)\n",
            "Requirement already satisfied: chardet<4,>=3.0.2 in /usr/local/lib/python3.7/dist-packages (from requests->flask_ngrok) (3.0.4)\n",
            "Requirement already satisfied: urllib3!=1.25.0,!=1.25.1,<1.26,>=1.21.1 in /usr/local/lib/python3.7/dist-packages (from requests->flask_ngrok) (1.24.3)\n"
          ]
        }
      ]
    },
    {
      "cell_type": "code",
      "source": [
        "!pip install line-bot-sdk"
      ],
      "metadata": {
        "colab": {
          "base_uri": "https://localhost:8080/"
        },
        "id": "hqIe6PHHvHSA",
        "outputId": "523def2a-b4d8-4359-cce6-a1199d4ab84a"
      },
      "execution_count": 6,
      "outputs": [
        {
          "output_type": "stream",
          "name": "stdout",
          "text": [
            "Looking in indexes: https://pypi.org/simple, https://us-python.pkg.dev/colab-wheels/public/simple/\n",
            "Collecting line-bot-sdk\n",
            "  Downloading line_bot_sdk-2.3.0-py2.py3-none-any.whl (88 kB)\n",
            "\u001b[K     |████████████████████████████████| 88 kB 4.5 MB/s \n",
            "\u001b[?25hRequirement already satisfied: requests>=2.0 in /usr/local/lib/python3.7/dist-packages (from line-bot-sdk) (2.23.0)\n",
            "Requirement already satisfied: future in /usr/local/lib/python3.7/dist-packages (from line-bot-sdk) (0.16.0)\n",
            "Collecting aiohttp>=3.7.4\n",
            "  Downloading aiohttp-3.8.1-cp37-cp37m-manylinux_2_5_x86_64.manylinux1_x86_64.manylinux_2_12_x86_64.manylinux2010_x86_64.whl (1.1 MB)\n",
            "\u001b[K     |████████████████████████████████| 1.1 MB 19.0 MB/s \n",
            "\u001b[?25hRequirement already satisfied: attrs>=17.3.0 in /usr/local/lib/python3.7/dist-packages (from aiohttp>=3.7.4->line-bot-sdk) (21.4.0)\n",
            "Collecting frozenlist>=1.1.1\n",
            "  Downloading frozenlist-1.3.0-cp37-cp37m-manylinux_2_5_x86_64.manylinux1_x86_64.manylinux_2_17_x86_64.manylinux2014_x86_64.whl (144 kB)\n",
            "\u001b[K     |████████████████████████████████| 144 kB 42.8 MB/s \n",
            "\u001b[?25hCollecting async-timeout<5.0,>=4.0.0a3\n",
            "  Downloading async_timeout-4.0.2-py3-none-any.whl (5.8 kB)\n",
            "Collecting yarl<2.0,>=1.0\n",
            "  Downloading yarl-1.7.2-cp37-cp37m-manylinux_2_5_x86_64.manylinux1_x86_64.manylinux_2_12_x86_64.manylinux2010_x86_64.whl (271 kB)\n",
            "\u001b[K     |████████████████████████████████| 271 kB 38.2 MB/s \n",
            "\u001b[?25hCollecting aiosignal>=1.1.2\n",
            "  Downloading aiosignal-1.2.0-py3-none-any.whl (8.2 kB)\n",
            "Collecting asynctest==0.13.0\n",
            "  Downloading asynctest-0.13.0-py3-none-any.whl (26 kB)\n",
            "Requirement already satisfied: typing-extensions>=3.7.4 in /usr/local/lib/python3.7/dist-packages (from aiohttp>=3.7.4->line-bot-sdk) (4.1.1)\n",
            "Requirement already satisfied: charset-normalizer<3.0,>=2.0 in /usr/local/lib/python3.7/dist-packages (from aiohttp>=3.7.4->line-bot-sdk) (2.0.12)\n",
            "Collecting multidict<7.0,>=4.5\n",
            "  Downloading multidict-6.0.2-cp37-cp37m-manylinux_2_17_x86_64.manylinux2014_x86_64.whl (94 kB)\n",
            "\u001b[K     |████████████████████████████████| 94 kB 4.6 MB/s \n",
            "\u001b[?25hRequirement already satisfied: certifi>=2017.4.17 in /usr/local/lib/python3.7/dist-packages (from requests>=2.0->line-bot-sdk) (2022.6.15)\n",
            "Requirement already satisfied: urllib3!=1.25.0,!=1.25.1,<1.26,>=1.21.1 in /usr/local/lib/python3.7/dist-packages (from requests>=2.0->line-bot-sdk) (1.24.3)\n",
            "Requirement already satisfied: idna<3,>=2.5 in /usr/local/lib/python3.7/dist-packages (from requests>=2.0->line-bot-sdk) (2.10)\n",
            "Requirement already satisfied: chardet<4,>=3.0.2 in /usr/local/lib/python3.7/dist-packages (from requests>=2.0->line-bot-sdk) (3.0.4)\n",
            "Installing collected packages: multidict, frozenlist, yarl, asynctest, async-timeout, aiosignal, aiohttp, line-bot-sdk\n",
            "Successfully installed aiohttp-3.8.1 aiosignal-1.2.0 async-timeout-4.0.2 asynctest-0.13.0 frozenlist-1.3.0 line-bot-sdk-2.3.0 multidict-6.0.2 yarl-1.7.2\n"
          ]
        }
      ]
    },
    {
      "cell_type": "code",
      "source": [
        "!pip install mf2py\n",
        "import mf2py"
      ],
      "metadata": {
        "colab": {
          "base_uri": "https://localhost:8080/"
        },
        "id": "YTYQZ5jKvLOH",
        "outputId": "1056bf0e-a04f-45c0-a0e1-f7d6f3845595"
      },
      "execution_count": 8,
      "outputs": [
        {
          "output_type": "stream",
          "name": "stdout",
          "text": [
            "Looking in indexes: https://pypi.org/simple, https://us-python.pkg.dev/colab-wheels/public/simple/\n",
            "Collecting mf2py\n",
            "  Downloading mf2py-1.1.2.tar.gz (25 kB)\n",
            "Requirement already satisfied: html5lib>=1.0.1 in /usr/local/lib/python3.7/dist-packages (from mf2py) (1.0.1)\n",
            "Requirement already satisfied: requests>=2.18.4 in /usr/local/lib/python3.7/dist-packages (from mf2py) (2.23.0)\n",
            "Requirement already satisfied: BeautifulSoup4>=4.6.0 in /usr/local/lib/python3.7/dist-packages (from mf2py) (4.6.3)\n",
            "Requirement already satisfied: webencodings in /usr/local/lib/python3.7/dist-packages (from html5lib>=1.0.1->mf2py) (0.5.1)\n",
            "Requirement already satisfied: six>=1.9 in /usr/local/lib/python3.7/dist-packages (from html5lib>=1.0.1->mf2py) (1.15.0)\n",
            "Requirement already satisfied: chardet<4,>=3.0.2 in /usr/local/lib/python3.7/dist-packages (from requests>=2.18.4->mf2py) (3.0.4)\n",
            "Requirement already satisfied: urllib3!=1.25.0,!=1.25.1,<1.26,>=1.21.1 in /usr/local/lib/python3.7/dist-packages (from requests>=2.18.4->mf2py) (1.24.3)\n",
            "Requirement already satisfied: idna<3,>=2.5 in /usr/local/lib/python3.7/dist-packages (from requests>=2.18.4->mf2py) (2.10)\n",
            "Requirement already satisfied: certifi>=2017.4.17 in /usr/local/lib/python3.7/dist-packages (from requests>=2.18.4->mf2py) (2022.6.15)\n",
            "Building wheels for collected packages: mf2py\n",
            "  Building wheel for mf2py (setup.py) ... \u001b[?25l\u001b[?25hdone\n",
            "  Created wheel for mf2py: filename=mf2py-1.1.2-py3-none-any.whl size=23244 sha256=a3861a0456ace20c9bfab3751fa16ed333259db68fa120d3c091cc49b4d012ed\n",
            "  Stored in directory: /root/.cache/pip/wheels/d9/47/72/d1f19d30e8dd2c06e7084d93ea90ab5ec60c6db488398c67db\n",
            "Successfully built mf2py\n",
            "Installing collected packages: mf2py\n",
            "Successfully installed mf2py-1.1.2\n"
          ]
        }
      ]
    },
    {
      "cell_type": "code",
      "source": [
        "def get_geo(doc):\n",
        "  coords = []\n",
        "  for d in doc['items']:\n",
        "    try:\n",
        "      data = {\n",
        "          'name': d['properties']['name'][0],  #地名\n",
        "          'geo': d['properties']['geo'][0]['value']  #座標\n",
        "          }\n",
        "      coords.append(data)\n",
        "    except (IndexError, KeyError):\n",
        "      pass\n",
        "  return coords"
      ],
      "metadata": {
        "id": "s2HKOwigvt4z"
      },
      "execution_count": 9,
      "outputs": []
    },
    {
      "cell_type": "code",
      "source": [
        "from flask_ngrok import run_with_ngrok\n",
        "from flask import Flask, request\n",
        "\n",
        "# 載入 LINE Message API 相關函式庫\n",
        "from linebot import LineBotApi, WebhookHandler\n",
        "from linebot.exceptions import InvalidSignatureError\n",
        "from linebot.models import MessageEvent, TextMessage, TextSendMessage\n",
        "\n",
        "# 載入 json 標準函式庫，處理回傳的資料格式\n",
        "import json\n",
        "\n",
        "app = Flask(__name__)\n",
        "\n",
        "@app.route(\"/\", methods=['POST'])\n",
        "def linebot():\n",
        "    body = request.get_data(as_text=True)                   # 取得收到的訊息內容\n",
        "    try:\n",
        "        json_data = json.loads(body)                         # json 格式化訊息內容\n",
        "        access_token = 'lQbD17cxSKLqvT2TpjqbEn0mYE2y7cFWwfn0In09SvyCBTBMNZwJuTGNUrokLGAQcCkiCO2juCwdCFpzBMvntDl1F04C2RaxaSADsx1BajNInJvGpcplAM9SMPXTz/k4ycZwSPialrD7la5glMlvtwdB04t89/1O/w1cDnyilFU='\n",
        "        secret = '28e0afc7cab79c8c244e26ff4a7aad25'\n",
        "        line_bot_api = LineBotApi(access_token)              # 確認 token 是否正確\n",
        "        handler = WebhookHandler(secret)                     # 確認 secret 是否正確\n",
        "        signature = request.headers['X-Line-Signature']      # 加入回傳的 headers\n",
        "        handler.handle(body, signature)                      # 綁定訊息回傳的相關資訊\n",
        "        msg = json_data['events'][0]['message']['text']      # 取得 LINE 收到的文字訊息\n",
        "        tk = json_data['events'][0]['replyToken']            # 取得回傳訊息的 Token\n",
        "\n",
        "        c = msg\n",
        "        doc = mf2py.parse(url=f\"https://en.wikipedia.org/wiki/{c}\", html_parser='lxml')\n",
        "        coords = get_geo(doc)\n",
        "        for item in coords:\n",
        "          geo_data=item[\"geo\"].split(\"; \")\n",
        "        line_bot_api.reply_message(tk,TextSendMessage(f\"緯度: {geo_data[0]}\\n經度: {geo_data[1]}\"))  # 回傳訊息\n",
        "        print(msg, tk)                                       # 印出內容\n",
        "    except:\n",
        "        print(body)                                          # 如果發生錯誤，印出收到的內容\n",
        "    return 'OK' \n",
        "                    # 驗證 Webhook 使用，不能省略\n",
        "if __name__ == \"__main__\":\n",
        "  run_with_ngrok(app)           # 串連 ngrok 服務\n",
        "  app.run()\n"
      ],
      "metadata": {
        "colab": {
          "base_uri": "https://localhost:8080/"
        },
        "id": "llGl07grwLhw",
        "outputId": "f0fce9f7-b63f-4569-c8e2-f2de0e4a3d6b"
      },
      "execution_count": 13,
      "outputs": [
        {
          "output_type": "stream",
          "name": "stdout",
          "text": [
            " * Serving Flask app \"__main__\" (lazy loading)\n",
            " * Environment: production\n",
            "\u001b[31m   WARNING: This is a development server. Do not use it in a production deployment.\u001b[0m\n",
            "\u001b[2m   Use a production WSGI server instead.\u001b[0m\n",
            " * Debug mode: off\n"
          ]
        },
        {
          "output_type": "stream",
          "name": "stderr",
          "text": [
            " * Running on http://127.0.0.1:5000/ (Press CTRL+C to quit)\n"
          ]
        },
        {
          "output_type": "stream",
          "name": "stdout",
          "text": [
            " * Running on http://7439-34-125-45-247.ngrok.io\n",
            " * Traffic stats available on http://127.0.0.1:4040\n"
          ]
        },
        {
          "output_type": "stream",
          "name": "stderr",
          "text": [
            "127.0.0.1 - - [22/Jun/2022 19:49:36] \"\u001b[37mPOST / HTTP/1.1\u001b[0m\" 200 -\n"
          ]
        },
        {
          "output_type": "stream",
          "name": "stdout",
          "text": [
            "London 9c45649c08cc457dbf5b22cae105c781\n"
          ]
        },
        {
          "output_type": "stream",
          "name": "stderr",
          "text": [
            "127.0.0.1 - - [22/Jun/2022 19:49:46] \"\u001b[37mPOST / HTTP/1.1\u001b[0m\" 200 -\n"
          ]
        },
        {
          "output_type": "stream",
          "name": "stdout",
          "text": [
            "Paris af12b984d8c743449de14331b9678932\n"
          ]
        },
        {
          "output_type": "stream",
          "name": "stderr",
          "text": [
            "127.0.0.1 - - [22/Jun/2022 19:50:01] \"\u001b[37mPOST / HTTP/1.1\u001b[0m\" 200 -\n"
          ]
        },
        {
          "output_type": "stream",
          "name": "stdout",
          "text": [
            "{\"destination\":\"U2b9be2cabf92830a45c39b3eab5b3692\",\"events\":[{\"type\":\"message\",\"message\":{\"type\":\"text\",\"id\":\"16307543553952\",\"text\":\"Taiwan\"},\"webhookEventId\":\"01G66FDQ81R26ZS278FCS37HZB\",\"deliveryContext\":{\"isRedelivery\":false},\"timestamp\":1655927397248,\"source\":{\"type\":\"user\",\"userId\":\"Uc0db7e4e3df5edea429d8feb63c1718d\"},\"replyToken\":\"08432a52e494481496c7fe2ec806c0ba\",\"mode\":\"active\"}]}\n"
          ]
        },
        {
          "output_type": "stream",
          "name": "stderr",
          "text": [
            "127.0.0.1 - - [22/Jun/2022 19:50:12] \"\u001b[37mPOST / HTTP/1.1\u001b[0m\" 200 -\n"
          ]
        },
        {
          "output_type": "stream",
          "name": "stdout",
          "text": [
            "Taipei 233e65b9357e45bb8f23b7d2788e8ff9\n"
          ]
        },
        {
          "output_type": "stream",
          "name": "stderr",
          "text": [
            "127.0.0.1 - - [22/Jun/2022 19:50:24] \"\u001b[37mPOST / HTTP/1.1\u001b[0m\" 200 -\n"
          ]
        },
        {
          "output_type": "stream",
          "name": "stdout",
          "text": [
            "{\"destination\":\"U2b9be2cabf92830a45c39b3eab5b3692\",\"events\":[{\"type\":\"message\",\"message\":{\"type\":\"text\",\"id\":\"16307544373121\",\"text\":\"Tainan\"},\"webhookEventId\":\"01G66FEF9ANFHSM5XTC2RWTD9E\",\"deliveryContext\":{\"isRedelivery\":false},\"timestamp\":1655927421745,\"source\":{\"type\":\"user\",\"userId\":\"Uc0db7e4e3df5edea429d8feb63c1718d\"},\"replyToken\":\"a1bddb960fd243e2872e3b24ae356066\",\"mode\":\"active\"}]}\n"
          ]
        },
        {
          "output_type": "stream",
          "name": "stderr",
          "text": [
            "127.0.0.1 - - [22/Jun/2022 19:51:09] \"\u001b[37mPOST / HTTP/1.1\u001b[0m\" 200 -\n"
          ]
        },
        {
          "output_type": "stream",
          "name": "stdout",
          "text": [
            "London 70521af7680149b8a497521dcbaf861a\n"
          ]
        },
        {
          "output_type": "stream",
          "name": "stderr",
          "text": [
            "127.0.0.1 - - [22/Jun/2022 19:51:20] \"\u001b[37mPOST / HTTP/1.1\u001b[0m\" 200 -\n"
          ]
        },
        {
          "output_type": "stream",
          "name": "stdout",
          "text": [
            "Paris 50b6b0c72afa46d681fde3b99edf4223\n"
          ]
        },
        {
          "output_type": "stream",
          "name": "stderr",
          "text": [
            "127.0.0.1 - - [22/Jun/2022 19:51:28] \"\u001b[37mPOST / HTTP/1.1\u001b[0m\" 200 -\n"
          ]
        },
        {
          "output_type": "stream",
          "name": "stdout",
          "text": [
            "Taipei 4f33d65fa47d4b2281700debb2685452\n"
          ]
        }
      ]
    }
  ]
}