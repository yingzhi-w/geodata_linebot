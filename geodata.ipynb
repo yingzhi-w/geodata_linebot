{
  "nbformat": 4,
  "nbformat_minor": 0,
  "metadata": {
    "colab": {
      "name": "geodata.ipynb",
      "provenance": [],
      "authorship_tag": "ABX9TyOfaR8E9qQfwj4pXKmEQV3L",
      "include_colab_link": true
    },
    "kernelspec": {
      "name": "python3",
      "display_name": "Python 3"
    },
    "language_info": {
      "name": "python"
    }
  },
  "cells": [
    {
      "cell_type": "markdown",
      "metadata": {
        "id": "view-in-github",
        "colab_type": "text"
      },
      "source": [
        "<a href=\"https://colab.research.google.com/github/yingzhi-w/geodata_linebot/blob/main/geodata.ipynb\" target=\"_parent\"><img src=\"https://colab.research.google.com/assets/colab-badge.svg\" alt=\"Open In Colab\"/></a>"
      ]
    },
    {
      "cell_type": "code",
      "execution_count": 10,
      "metadata": {
        "colab": {
          "base_uri": "https://localhost:8080/"
        },
        "id": "XkoULa60kzrI",
        "outputId": "ca410e6c-cb89-40bf-a505-3eada9443d07"
      },
      "outputs": [
        {
          "output_type": "stream",
          "name": "stdout",
          "text": [
            "Looking in indexes: https://pypi.org/simple, https://us-python.pkg.dev/colab-wheels/public/simple/\n",
            "Requirement already satisfied: mf2py in /usr/local/lib/python3.7/dist-packages (1.1.2)\n",
            "Requirement already satisfied: html5lib>=1.0.1 in /usr/local/lib/python3.7/dist-packages (from mf2py) (1.0.1)\n",
            "Requirement already satisfied: BeautifulSoup4>=4.6.0 in /usr/local/lib/python3.7/dist-packages (from mf2py) (4.6.3)\n",
            "Requirement already satisfied: requests>=2.18.4 in /usr/local/lib/python3.7/dist-packages (from mf2py) (2.23.0)\n",
            "Requirement already satisfied: webencodings in /usr/local/lib/python3.7/dist-packages (from html5lib>=1.0.1->mf2py) (0.5.1)\n",
            "Requirement already satisfied: six>=1.9 in /usr/local/lib/python3.7/dist-packages (from html5lib>=1.0.1->mf2py) (1.15.0)\n",
            "Requirement already satisfied: idna<3,>=2.5 in /usr/local/lib/python3.7/dist-packages (from requests>=2.18.4->mf2py) (2.10)\n",
            "Requirement already satisfied: certifi>=2017.4.17 in /usr/local/lib/python3.7/dist-packages (from requests>=2.18.4->mf2py) (2022.6.15)\n",
            "Requirement already satisfied: chardet<4,>=3.0.2 in /usr/local/lib/python3.7/dist-packages (from requests>=2.18.4->mf2py) (3.0.4)\n",
            "Requirement already satisfied: urllib3!=1.25.0,!=1.25.1,<1.26,>=1.21.1 in /usr/local/lib/python3.7/dist-packages (from requests>=2.18.4->mf2py) (1.24.3)\n"
          ]
        }
      ],
      "source": [
        "!pip install mf2py\n",
        "import mf2py"
      ]
    },
    {
      "cell_type": "code",
      "source": [
        "def get_geo(doc):\n",
        "    coords = []\n",
        "    for d in doc['items']:\n",
        "        try:\n",
        "            data = {\n",
        "#                'name': d['properties']['name'][0],  #地名\n",
        "                'geo': d['properties']['geo'][0]['value']  #座標\n",
        "            }\n",
        "            coords.append(data)\n",
        "        except (IndexError, KeyError):\n",
        "            pass\n",
        "    return coords"
      ],
      "metadata": {
        "id": "f_VjJ7lslJcU"
      },
      "execution_count": 15,
      "outputs": []
    },
    {
      "cell_type": "code",
      "source": [
        "c = input(\"country: \")\n",
        "doc = mf2py.parse(url=f\"https://en.wikipedia.org/wiki/{c}\", html_parser='lxml')\n",
        "coords = get_geo(doc)\n",
        "for item in coords:\n",
        "  print(item[\"geo\"].split(\"; \"))\n"
      ],
      "metadata": {
        "colab": {
          "base_uri": "https://localhost:8080/"
        },
        "id": "E2nhPPJYk9Hq",
        "outputId": "8d5ee8b1-07f5-49a0-8e09-bd6925785176"
      },
      "execution_count": 18,
      "outputs": [
        {
          "output_type": "stream",
          "name": "stdout",
          "text": [
            "country: London\n",
            "['51.50722', '-0.12750']\n"
          ]
        }
      ]
    }
  ]
}